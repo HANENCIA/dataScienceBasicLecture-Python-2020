{
 "cells": [
  {
   "cell_type": "markdown",
   "metadata": {},
   "source": [
    "# 1. 입출력, 기본 연산 (Input/Output, Operator)"
   ]
  },
  {
   "cell_type": "markdown",
   "metadata": {},
   "source": [
    "## 1.1. 입출력 (Input/Output)"
   ]
  },
  {
   "cell_type": "code",
   "execution_count": null,
   "metadata": {},
   "outputs": [],
   "source": [
    "input_1 = input(\"데이터를 입력하세요\\n\")\n",
    "print(type(input_1))\n",
    "print(input_1)"
   ]
  },
  {
   "cell_type": "code",
   "execution_count": null,
   "metadata": {},
   "outputs": [],
   "source": [
    "school_1 = '학교'\n",
    "school_2 = '공부'\n",
    "print(\"나는 {}에 {}하러 갔다.\".format(school_1, school_2))\n",
    "print(\"나는 {0}에 {1}하러 갔다.\".format(school_1, school_2))\n",
    "print(\"나는 {1}에 {0}하러 갔다.\".format(school_1, school_2))"
   ]
  },
  {
   "cell_type": "markdown",
   "metadata": {},
   "source": [
    "## 1.2. 기본 연산자 (Operator)"
   ]
  },
  {
   "cell_type": "code",
   "execution_count": null,
   "metadata": {},
   "outputs": [],
   "source": [
    "cal_1 = 5\n",
    "cal_2 = 3\n",
    "\n",
    "cal_sum = cal_1 + cal_2\n",
    "print(cal_sum)\n",
    "cal_sub = cal_1 - cal_2\n",
    "print(cal_sub)\n",
    "cal_mul = cal_1 * cal_2\n",
    "print(cal_mul)\n",
    "cal_div = cal_1 / cal_2\n",
    "print(cal_div)\n",
    "cal_quo = cal_1 // cal_2\n",
    "print(cal_quo)\n",
    "cal_mod = cal_1 % cal_2\n",
    "print(cal_mod)"
   ]
  },
  {
   "cell_type": "markdown",
   "metadata": {},
   "source": [
    "## 1.3. 참/거짓 (Boolean)"
   ]
  },
  {
   "cell_type": "code",
   "execution_count": null,
   "metadata": {},
   "outputs": [],
   "source": [
    "print(cal_1 == cal_2)\n",
    "print(cal_1 != cal_2)"
   ]
  },
  {
   "cell_type": "markdown",
   "metadata": {},
   "source": [
    "# 2. 자료형 (Data Type)"
   ]
  },
  {
   "cell_type": "markdown",
   "metadata": {},
   "source": [
    "## 2.1. 숫자형 (Numbers)"
   ]
  },
  {
   "cell_type": "code",
   "execution_count": null,
   "metadata": {},
   "outputs": [],
   "source": [
    "num_1 = 123 # 정수(Integer)\n",
    "num_2 = -123.4 # 실수(Float)\n",
    "num_3 = 0o34 # 8진수(OCT)\n",
    "num_4 = 0x2A # 16진수(HEX)"
   ]
  },
  {
   "cell_type": "code",
   "execution_count": null,
   "metadata": {},
   "outputs": [],
   "source": [
    "print(num_1)\n",
    "print(type(num_1))\n",
    "print(num_2)\n",
    "print(type(num_2))\n",
    "print(num_3)\n",
    "print(type(num_3))\n",
    "print(num_4)\n",
    "print(type(num_4))"
   ]
  },
  {
   "cell_type": "code",
   "execution_count": null,
   "metadata": {},
   "outputs": [],
   "source": [
    "num_sum = num_1 + num_2\n",
    "print(num_sum)\n",
    "print(type(num_sum))"
   ]
  },
  {
   "cell_type": "markdown",
   "metadata": {},
   "source": [
    "## 2.2. 문자형 (String)"
   ]
  },
  {
   "cell_type": "code",
   "execution_count": null,
   "metadata": {},
   "outputs": [],
   "source": [
    "str_1 = \"I'm learning python.\"\n",
    "str_2 = '나는 파이썬을 배우고 있습니다.'\n",
    "str_3 = \"123\""
   ]
  },
  {
   "cell_type": "code",
   "execution_count": null,
   "metadata": {},
   "outputs": [],
   "source": [
    "print(str_1)\n",
    "print(type(str_1))\n",
    "print(len(str_1))\n",
    "print(str_2)\n",
    "print(type(str_2))\n",
    "print(len(str_2))\n",
    "print(str_3)\n",
    "print(type(str_3))\n",
    "print(len(str_3))"
   ]
  },
  {
   "cell_type": "code",
   "execution_count": null,
   "metadata": {},
   "outputs": [],
   "source": [
    "str_to_int = int(str_3)\n",
    "print(str_to_int)\n",
    "print(type(str_to_int))\n",
    "print(len(str_to_int))"
   ]
  },
  {
   "cell_type": "code",
   "execution_count": null,
   "metadata": {},
   "outputs": [],
   "source": [
    "str_5 = \"나는 \"\n",
    "str_6 = \"Python\"\n",
    "str_7 = \"을 배우고 있습니다\"\n",
    "str_concat = str_5 + str_6 + str_7\n",
    "print(str_concat)\n",
    "print(str_6 * 2)"
   ]
  },
  {
   "cell_type": "code",
   "execution_count": null,
   "metadata": {},
   "outputs": [],
   "source": [
    "str_8 = \"I love Python\"\n",
    "print(str_8[7:13])\n",
    "print(str_8[7:])\n",
    "print(str_8[-6:])"
   ]
  },
  {
   "cell_type": "code",
   "execution_count": null,
   "metadata": {},
   "outputs": [],
   "source": [
    "str_9 = \"I LOVE PYTHON\"\n",
    "print(str_9)\n",
    "str_9 = str_9.lower()\n",
    "print(str_9)\n",
    "str_9 = str_9.upper()\n",
    "print(str_9)"
   ]
  },
  {
   "cell_type": "code",
   "execution_count": null,
   "metadata": {},
   "outputs": [],
   "source": [
    "str_10 = \"I Lovn Python\"\n",
    "print(str_10)\n",
    "str_10 = str_10.replace(\"Lovn\", 'Love')\n",
    "print(str_10)"
   ]
  },
  {
   "cell_type": "markdown",
   "metadata": {},
   "source": [
    "## 2.3. 리스트 (List)"
   ]
  },
  {
   "cell_type": "code",
   "execution_count": null,
   "metadata": {},
   "outputs": [],
   "source": [
    "list_1 = [1, 2, 3, 4, 5]\n",
    "print(list_1)\n",
    "print(type(list_1))\n",
    "print(len(list_1))"
   ]
  },
  {
   "cell_type": "code",
   "execution_count": null,
   "metadata": {},
   "outputs": [],
   "source": [
    "print(list_1[0])\n",
    "print(list_1[-1])\n",
    "print(list_1[0:3])\n",
    "print(list_1[:3])\n",
    "print(list_1[3:])\n",
    "print(list_1[-2:])"
   ]
  },
  {
   "cell_type": "code",
   "execution_count": null,
   "metadata": {},
   "outputs": [],
   "source": [
    "list_1.append(6)\n",
    "print(list_1)"
   ]
  },
  {
   "cell_type": "code",
   "execution_count": null,
   "metadata": {},
   "outputs": [],
   "source": [
    "list_1[5] = 7\n",
    "print(list_1)"
   ]
  },
  {
   "cell_type": "code",
   "execution_count": null,
   "metadata": {},
   "outputs": [],
   "source": [
    "del list_1[5]\n",
    "print(list_1)"
   ]
  },
  {
   "cell_type": "code",
   "execution_count": null,
   "metadata": {},
   "outputs": [],
   "source": [
    "list_2 = [1, 3]\n",
    "list_3 = [5, 7, 9]\n",
    "list_concat = list_2 + list_3\n",
    "print(list_concat)\n",
    "list_repeat = list_2 * 3\n",
    "print(list_repeat)"
   ]
  },
  {
   "cell_type": "code",
   "execution_count": null,
   "metadata": {},
   "outputs": [],
   "source": [
    "list_4 = [3, 1, 4, 5, 2]\n",
    "print(list_4)\n",
    "list_4.sort()\n",
    "print(list_4)\n",
    "list_4.reverse()\n",
    "print(list_4)"
   ]
  },
  {
   "cell_type": "markdown",
   "metadata": {},
   "source": [
    "## 2.4. 튜플 (Tuple)"
   ]
  },
  {
   "cell_type": "code",
   "execution_count": null,
   "metadata": {},
   "outputs": [],
   "source": [
    "tuple_1 = (1, 2, 3, 4, 5)\n",
    "print(tuple_1)\n",
    "print(type(tuple_1))\n",
    "print(len(tuple_1))"
   ]
  },
  {
   "cell_type": "code",
   "execution_count": null,
   "metadata": {},
   "outputs": [],
   "source": [
    "print(tuple_1[0])\n",
    "print(tuple_1[-1])\n",
    "print(tuple_1[0:3])\n",
    "print(tuple_1[:3])\n",
    "print(tuple_1[3:])\n",
    "print(tuple_1[-2:])"
   ]
  },
  {
   "cell_type": "code",
   "execution_count": null,
   "metadata": {},
   "outputs": [],
   "source": [
    "tuple_1.append(6)\n",
    "print(tuple_1)"
   ]
  },
  {
   "cell_type": "code",
   "execution_count": null,
   "metadata": {},
   "outputs": [],
   "source": [
    "tuple_1[4] = 7"
   ]
  },
  {
   "cell_type": "code",
   "execution_count": null,
   "metadata": {},
   "outputs": [],
   "source": [
    "del tuple_1[4]"
   ]
  },
  {
   "cell_type": "code",
   "execution_count": null,
   "metadata": {},
   "outputs": [],
   "source": [
    "tuple_2 = (1, 3)\n",
    "tuple_3 = (5, 7, 9)\n",
    "tuple_concat = tuple_2 + tuple_3\n",
    "print(tuple_concat)\n",
    "tuple_repeat = tuple_2 * 3\n",
    "print(tuple_repeat)"
   ]
  },
  {
   "cell_type": "code",
   "execution_count": null,
   "metadata": {},
   "outputs": [],
   "source": [
    "tuple_4 = (3, 1, 4, 5, 2)\n",
    "tuple_4.sort()"
   ]
  },
  {
   "cell_type": "markdown",
   "metadata": {},
   "source": [
    "## 2.5. 집합 (Set)"
   ]
  },
  {
   "cell_type": "code",
   "execution_count": null,
   "metadata": {},
   "outputs": [],
   "source": [
    "set_1 = {1, 1, 2, 3}\n",
    "set_2 = set(list_4)\n",
    "print(type(set_1))\n",
    "print(set_1)\n",
    "print(set_2)"
   ]
  },
  {
   "cell_type": "code",
   "execution_count": null,
   "metadata": {},
   "outputs": [],
   "source": [
    "set_1.add(5)\n",
    "print(set_1)\n",
    "set_1.update({6, 7, 8})\n",
    "print(set_1)"
   ]
  },
  {
   "cell_type": "code",
   "execution_count": null,
   "metadata": {},
   "outputs": [],
   "source": [
    "set_1.remove(8)\n",
    "print(set_1)"
   ]
  },
  {
   "cell_type": "code",
   "execution_count": null,
   "metadata": {},
   "outputs": [],
   "source": [
    "set_1.clear()\n",
    "print(set_1)"
   ]
  },
  {
   "cell_type": "code",
   "execution_count": null,
   "metadata": {},
   "outputs": [],
   "source": [
    "set_3 = {1, 2, 3}\n",
    "set_4 = {1, 3, 4}\n",
    "\n",
    "set_intersec_1 = set_3 & set_4\n",
    "print(set_intersec_1)\n",
    "set_instersec_2 = set_3.intersection(set_4)\n",
    "print(set_instersec_2)\n",
    "\n",
    "set_union_1 = set_3 | set_4\n",
    "print(set_union_1)\n",
    "set_union_2 = set_3.union(set_4)\n",
    "print(set_union_2)\n",
    "\n",
    "set_diff_1 = set_3 - set_4\n",
    "print(set_diff_1)\n",
    "set_diff_2 = set_3.difference(set_4)\n",
    "print(set_diff_2)"
   ]
  },
  {
   "cell_type": "markdown",
   "metadata": {},
   "source": [
    "## 2.6. 딕셔너리 (Dictionary)"
   ]
  },
  {
   "cell_type": "code",
   "execution_count": null,
   "metadata": {},
   "outputs": [],
   "source": [
    "dict_1 = {\"Kim\": 90, \"Jeong\": 80, \"Park\": 75}\n",
    "print(type(dict_1))\n",
    "print(len(dict_1))"
   ]
  },
  {
   "cell_type": "code",
   "execution_count": null,
   "metadata": {},
   "outputs": [],
   "source": [
    "print(dict_1['Kim'])\n",
    "print(dict_1['Jeong'])\n",
    "print(dict_1['Park'])"
   ]
  },
  {
   "cell_type": "code",
   "execution_count": null,
   "metadata": {},
   "outputs": [],
   "source": [
    "dict_1[\"Jeong\"] = 85\n",
    "print(dict_1)\n",
    "dict_1[\"Cho\"] = 95\n",
    "print(dict_1)\n",
    "del dict_1[\"Park\"]\n",
    "print(dict_1)"
   ]
  },
  {
   "cell_type": "code",
   "execution_count": null,
   "metadata": {},
   "outputs": [],
   "source": [
    "print(dict_1.keys())\n",
    "print(dict_1.values())"
   ]
  },
  {
   "cell_type": "markdown",
   "metadata": {},
   "source": [
    "# 3. 제어문 (Control Statements)"
   ]
  },
  {
   "cell_type": "markdown",
   "metadata": {},
   "source": [
    "## 3.1. if문"
   ]
  },
  {
   "cell_type": "code",
   "execution_count": null,
   "metadata": {},
   "outputs": [],
   "source": [
    "money = 30000\n",
    "\n",
    "if money >= 40000:\n",
    "    print(\"KTX 타고 가자\")\n",
    "elif money >= 20000:\n",
    "    print(\"버스 타고 가자\")\n",
    "else:\n",
    "    print(\"터벅터벅...\")"
   ]
  },
  {
   "cell_type": "code",
   "execution_count": null,
   "metadata": {},
   "outputs": [],
   "source": [
    "incorret_str = '집중이 안되 외않되'\n",
    "if '안되' in incorret_str:\n",
    "    print(\"맞춤법이 틀렸습니다: 안되\")\n",
    "elif '외않되' in incorrect:\n",
    "    print(\"맞춤법이 틀렸습니다: 외않되\")\n",
    "else:\n",
    "    print(\"맞춤법이 맞습니다\")"
   ]
  },
  {
   "cell_type": "markdown",
   "metadata": {},
   "source": [
    "## 3.2. for문"
   ]
  },
  {
   "cell_type": "code",
   "execution_count": null,
   "metadata": {},
   "outputs": [],
   "source": [
    "sum_1_to_10 = 0\n",
    "\n",
    "for i in range(11):\n",
    "    print(str(i) + '을(를) 더합니다')\n",
    "    sum_1_to_10 = sum_1_to_10 + i\n",
    "\n",
    "print(sum_1_to_10)"
   ]
  },
  {
   "cell_type": "code",
   "execution_count": null,
   "metadata": {
    "scrolled": true
   },
   "outputs": [],
   "source": [
    "for i in range(2, 10):\n",
    "    for j in range(1, 10):\n",
    "        print(\"{} * {} = {}\".format(i, j, i * j))"
   ]
  },
  {
   "cell_type": "code",
   "execution_count": null,
   "metadata": {},
   "outputs": [],
   "source": [
    "list_odd_num = []\n",
    "for i in range(100):\n",
    "    if i == 10:\n",
    "        break\n",
    "    elif i % 2 == 0:\n",
    "        continue\n",
    "    list_odd_num.append(i)\n",
    "\n",
    "print(list_odd_num)"
   ]
  },
  {
   "cell_type": "code",
   "execution_count": null,
   "metadata": {},
   "outputs": [],
   "source": [
    "list_surname = [\"KIM\", \"LEE\", \"PARK\", \"JEONG\"]\n",
    "for name in list_surname:\n",
    "    print(name)"
   ]
  },
  {
   "cell_type": "code",
   "execution_count": null,
   "metadata": {},
   "outputs": [],
   "source": [
    "list_words = ['강', '바다', '산', '도시', '시골']\n",
    "list_words_filter = [word for word in list_words if len(word) > 1]\n",
    "print(list_words_filter)"
   ]
  },
  {
   "cell_type": "markdown",
   "metadata": {},
   "source": [
    "## 3.3 While문"
   ]
  },
  {
   "cell_type": "code",
   "execution_count": null,
   "metadata": {},
   "outputs": [],
   "source": [
    "while_num_1 = 10\n",
    "while while_num_1 > 1:\n",
    "    print(while_num_1)\n",
    "    while_num_1 -= 1"
   ]
  },
  {
   "cell_type": "code",
   "execution_count": null,
   "metadata": {},
   "outputs": [],
   "source": [
    "while_num_2 = 0\n",
    "while True:\n",
    "    print(while_num_2)\n",
    "    while_num_2 += 1\n",
    "    \n",
    "    if while_num_2 == 10:\n",
    "        break"
   ]
  },
  {
   "cell_type": "markdown",
   "metadata": {},
   "source": [
    "# 4. 배열 (Array)"
   ]
  },
  {
   "cell_type": "markdown",
   "metadata": {},
   "source": [
    "## 4.1. 1차원 배열 (Array)"
   ]
  },
  {
   "cell_type": "code",
   "execution_count": null,
   "metadata": {},
   "outputs": [],
   "source": [
    "import numpy as np"
   ]
  },
  {
   "cell_type": "code",
   "execution_count": null,
   "metadata": {},
   "outputs": [],
   "source": [
    "array_1 = np.array([1, 2, 3, 4])\n",
    "print(array_1)\n",
    "print(type(array_1))"
   ]
  },
  {
   "cell_type": "code",
   "execution_count": null,
   "metadata": {},
   "outputs": [],
   "source": [
    "array_2 = np.arange(5)\n",
    "array_3 = np.arange(1, 10, 2, dtype=int)\n",
    "array_4 = np.arange(3.5, 10.5, 2, dtype=float)\n",
    "print(array_2)\n",
    "print(array_3)\n",
    "print(array_4)"
   ]
  },
  {
   "cell_type": "code",
   "execution_count": null,
   "metadata": {},
   "outputs": [],
   "source": [
    "array_5 = np.arange(1, 10, 2) ** 2\n",
    "array_6 = np.arange(1, 10 ,2) ** 3\n",
    "print(array_5)\n",
    "print(array_6)"
   ]
  },
  {
   "cell_type": "markdown",
   "metadata": {},
   "source": [
    "## 4.2. 다차원 배열: 2차원 배열 (2D Array, Matrix)"
   ]
  },
  {
   "cell_type": "code",
   "execution_count": null,
   "metadata": {},
   "outputs": [],
   "source": [
    "array_6 = np.arange(12)\n",
    "print(array_6)\n",
    "array_6 = array_6.reshape(2, 6)\n",
    "print(array_6)\n",
    "print(array_6.shape)\n",
    "array_7 = np.arange(12)\n",
    "array_7 = array_7.reshape(2, 6, order='C')\n",
    "print(array_7)\n",
    "array_8 = np.arange(12)\n",
    "array_8 = array_8.reshape(2, 6, order='F')\n",
    "print(array_8)"
   ]
  },
  {
   "cell_type": "code",
   "execution_count": null,
   "metadata": {
    "scrolled": true
   },
   "outputs": [],
   "source": [
    "array_9 = np.arange(1, 5).reshape(2, 2)\n",
    "print(array_9)\n",
    "print(np.add(array_9, array_9))\n",
    "print(np.subtract(array_9, array_9))\n",
    "print(np.multiply(array_9, array_9)) # 행렬곱 (matrix product)\n",
    "print(np.dot(array_9, array_9)) # 내적곱 (dot product)"
   ]
  },
  {
   "cell_type": "code",
   "execution_count": null,
   "metadata": {},
   "outputs": [],
   "source": [
    "array_11 = np.arange(1, 5).reshape(2, 2)\n",
    "print(array_11)\n",
    "print(np.amax(array_11))\n",
    "print(np.amin(array_11))\n",
    "print(np.mean(array_11))\n",
    "print(np.mean(array_11, axis=0))\n",
    "print(np.mean(array_11, axis=1))\n",
    "print(np.var(array_11))\n",
    "print(np.var(array_11, axis=0))\n",
    "print(np.var(array_11, axis=1))\n",
    "print(np.std(array_11))\n",
    "print(np.std(array_11, axis=0))\n",
    "print(np.std(array_11, axis=1))"
   ]
  },
  {
   "cell_type": "markdown",
   "metadata": {},
   "source": [
    "## 4.3. 다차원 배열: 3차원 배열 (3D Array)"
   ]
  },
  {
   "cell_type": "code",
   "execution_count": null,
   "metadata": {},
   "outputs": [],
   "source": [
    "array_10 = np.arange(12).reshape(2, 3, 2, order='F')\n",
    "print(array_10)\n",
    "print(array_10.shape)"
   ]
  },
  {
   "cell_type": "markdown",
   "metadata": {},
   "source": [
    "# 5. 함수 (Function)"
   ]
  },
  {
   "cell_type": "markdown",
   "metadata": {},
   "source": [
    "## 5.1. 함수 (Function)"
   ]
  },
  {
   "cell_type": "code",
   "execution_count": null,
   "metadata": {},
   "outputs": [],
   "source": [
    "def calculator(x, y, operator):\n",
    "    \n",
    "    assert operator in [\"+\", \"-\", \"*\", \"/\"]\n",
    "    \n",
    "    if operator == \"+\":\n",
    "        return x + y\n",
    "    elif operator == '-':\n",
    "        return x - y\n",
    "    elif operator == '*':\n",
    "        return x * y\n",
    "    else:\n",
    "        return x / y"
   ]
  },
  {
   "cell_type": "code",
   "execution_count": null,
   "metadata": {},
   "outputs": [],
   "source": [
    "print(calculator(2, 3, \"*\"))\n",
    "calculator_result = calculator(2, 3, \"*\")\n",
    "print(calculator_result)\n",
    "print(calculator(2, 3, 5))"
   ]
  },
  {
   "cell_type": "code",
   "execution_count": null,
   "metadata": {},
   "outputs": [],
   "source": [
    "def spelling_check(sentences):\n",
    "    sentences = sentences.replace(\"됬\", \"됐\")\n",
    "    sentences = sentences.replace(\"외요\", \"왜요\")\n",
    "    return sentences"
   ]
  },
  {
   "cell_type": "code",
   "execution_count": null,
   "metadata": {},
   "outputs": [],
   "source": [
    "spelling_check_sentences = \"외요? 학교에 갔으면 됬잖아요?\"\n",
    "print(spelling_check(spelling_check_sentences))"
   ]
  },
  {
   "cell_type": "markdown",
   "metadata": {},
   "source": [
    "## 5.2. Lambda 함수"
   ]
  },
  {
   "cell_type": "code",
   "execution_count": null,
   "metadata": {},
   "outputs": [],
   "source": [
    "list_5 = [-2, -1, 0, 1, 2, 3] # [1, 4, 9]로 만들어라\n",
    "\n",
    "def make_square_list(list_val):\n",
    "    result = []\n",
    "    for elem in list_val:\n",
    "        result.append(elem ** 2)\n",
    "    return result\n",
    "        \n",
    "list_6 = make_square_list(list_5)\n",
    "print(list_6)"
   ]
  },
  {
   "cell_type": "code",
   "execution_count": null,
   "metadata": {},
   "outputs": [],
   "source": [
    "list_7 = list(map(lambda x: x ** 2, list_5)) # 게으른 연산 (Lazy Evaluation)\n",
    "print(list_7)"
   ]
  },
  {
   "cell_type": "code",
   "execution_count": null,
   "metadata": {},
   "outputs": [],
   "source": [
    "def get_positive_num(list_val):\n",
    "    result = []\n",
    "    for elem in list_val:\n",
    "        if elem > 0:\n",
    "            result.append(elem)\n",
    "        else:\n",
    "            pass\n",
    "    return result\n",
    "\n",
    "list_8 = get_positive_num(list_5)\n",
    "print(list_8)"
   ]
  },
  {
   "cell_type": "code",
   "execution_count": null,
   "metadata": {},
   "outputs": [],
   "source": [
    "list_9 = list(filter(lambda x: x > 0, list_5))\n",
    "print(list_9)"
   ]
  },
  {
   "cell_type": "code",
   "execution_count": null,
   "metadata": {},
   "outputs": [],
   "source": [
    "def get_maximum_num(list_val):\n",
    "    result = 0\n",
    "    for elem in list_val:\n",
    "        if result < elem:\n",
    "            result = elem\n",
    "    return result\n",
    "\n",
    "print(get_maximum_num(list_5))"
   ]
  },
  {
   "cell_type": "code",
   "execution_count": null,
   "metadata": {},
   "outputs": [],
   "source": [
    "from functools import reduce\n",
    "print(reduce(lambda x, y: x + y, [1, 2, 3, 4, 5])) # ((((1+2)+3)+4)+5)\n",
    "print(reduce(lambda x, y: x if x > y else y, list_5))"
   ]
  },
  {
   "cell_type": "markdown",
   "metadata": {},
   "source": [
    "# 6. 데이터프레임 (DataFrame)"
   ]
  },
  {
   "cell_type": "markdown",
   "metadata": {},
   "source": [
    "## 6.1. 데이터프레임 만들기"
   ]
  },
  {
   "cell_type": "code",
   "execution_count": null,
   "metadata": {},
   "outputs": [],
   "source": [
    "import pandas as pd"
   ]
  },
  {
   "cell_type": "code",
   "execution_count": null,
   "metadata": {},
   "outputs": [],
   "source": [
    "df_1_list = [[1, 2, 3, 4], [5, 6, 7, 8]]\n",
    "df_1 = pd.DataFrame(df_1_list, columns=[\"A\", \"B\", \"C\", \"D\"])"
   ]
  },
  {
   "cell_type": "markdown",
   "metadata": {},
   "source": [
    "## 6.2. CSV 파일 불러오기"
   ]
  },
  {
   "cell_type": "code",
   "execution_count": null,
   "metadata": {},
   "outputs": [],
   "source": [
    "df_tour = pd.read_csv('입국관광통계_국적별입국_2010_2020_utf8.csv')"
   ]
  },
  {
   "cell_type": "code",
   "execution_count": null,
   "metadata": {},
   "outputs": [],
   "source": [
    "df_tour_euckr = pd.read_csv('입국관광통계_국적별입국_2010_2020_euckr.csv')"
   ]
  },
  {
   "cell_type": "code",
   "execution_count": null,
   "metadata": {},
   "outputs": [],
   "source": [
    "df_tour_euckr = pd.read_csv('입국관광통계_국적별입국_2010_2020_euckr.csv', encoding='euc-kr')"
   ]
  },
  {
   "cell_type": "markdown",
   "metadata": {},
   "source": [
    "## 6.3. 데이터프레임 필터링 (DataFrame Filtering)"
   ]
  },
  {
   "cell_type": "code",
   "execution_count": null,
   "metadata": {
    "scrolled": false
   },
   "outputs": [],
   "source": [
    "df_tour"
   ]
  },
  {
   "cell_type": "code",
   "execution_count": null,
   "metadata": {},
   "outputs": [],
   "source": [
    "df_tour.head()"
   ]
  },
  {
   "cell_type": "code",
   "execution_count": null,
   "metadata": {},
   "outputs": [],
   "source": [
    "df_tour.tail()"
   ]
  },
  {
   "cell_type": "code",
   "execution_count": null,
   "metadata": {},
   "outputs": [],
   "source": [
    "df_tour[2:4]"
   ]
  },
  {
   "cell_type": "code",
   "execution_count": null,
   "metadata": {},
   "outputs": [],
   "source": [
    "df_tour[:3]"
   ]
  },
  {
   "cell_type": "code",
   "execution_count": null,
   "metadata": {},
   "outputs": [],
   "source": [
    "df_tour[65:]"
   ]
  },
  {
   "cell_type": "code",
   "execution_count": null,
   "metadata": {},
   "outputs": [],
   "source": [
    "df_tour['2020년']"
   ]
  },
  {
   "cell_type": "code",
   "execution_count": null,
   "metadata": {},
   "outputs": [],
   "source": [
    "df_tour[df_tour.columns[[0, 1, 3]]]"
   ]
  },
  {
   "cell_type": "code",
   "execution_count": null,
   "metadata": {},
   "outputs": [],
   "source": [
    "df_tour.loc[:, '2018년':'2020년']"
   ]
  },
  {
   "cell_type": "code",
   "execution_count": null,
   "metadata": {},
   "outputs": [],
   "source": [
    "df_tour.iloc[1:7, 0:3]"
   ]
  },
  {
   "cell_type": "code",
   "execution_count": null,
   "metadata": {},
   "outputs": [],
   "source": [
    "df_tour.at[5, '2010년']"
   ]
  },
  {
   "cell_type": "markdown",
   "metadata": {},
   "source": [
    "## 6.4. 데이터프레임 핸들링 (DataFrame Handling)"
   ]
  },
  {
   "cell_type": "code",
   "execution_count": null,
   "metadata": {},
   "outputs": [],
   "source": [
    "df_tour_2 = df_tour.copy()"
   ]
  },
  {
   "cell_type": "code",
   "execution_count": null,
   "metadata": {},
   "outputs": [],
   "source": [
    "df_tour_2_columns = df_tour_2.columns\n",
    "print(df_tour_2_columns)"
   ]
  },
  {
   "cell_type": "code",
   "execution_count": null,
   "metadata": {},
   "outputs": [],
   "source": [
    "df_tour_2.columns = ['NAT', '2010', '2011', '2012', '2013', '2014', '2015', '2016', '2017', '2018', '2019', '2021']\n",
    "df_tour_2"
   ]
  },
  {
   "cell_type": "code",
   "execution_count": null,
   "metadata": {},
   "outputs": [],
   "source": [
    "df_tour_2.rename(columns={'2021': '2020'}, inplace=True)\n",
    "df_tour_2"
   ]
  },
  {
   "cell_type": "code",
   "execution_count": null,
   "metadata": {},
   "outputs": [],
   "source": [
    "df_tour_2['2020_REV'] = df_tour_2['2020'] * 2\n",
    "df_tour_2['2019-2020'] = df_tour_2['2019'] + df_tour_2['2020']\n",
    "df_tour_2"
   ]
  },
  {
   "cell_type": "code",
   "execution_count": null,
   "metadata": {},
   "outputs": [],
   "source": [
    "del df_tour_2['2019-2020']\n",
    "df_tour_2"
   ]
  },
  {
   "cell_type": "code",
   "execution_count": null,
   "metadata": {},
   "outputs": [],
   "source": [
    "df_tour_2019_over_1m = df_tour_2[(df_tour_2['2019'] >= 1000000)]\n",
    "print(df_tour_2019_over_1m)"
   ]
  },
  {
   "cell_type": "code",
   "execution_count": null,
   "metadata": {},
   "outputs": [],
   "source": [
    "df_tour_2019_1m_to_4m = df_tour_2[(df_tour_2['2019'] >= 1000000) & (df_tour_2['2019'] <= 4000000)]\n",
    "print(df_tour_2019_1m_to_4m)"
   ]
  },
  {
   "cell_type": "code",
   "execution_count": null,
   "metadata": {},
   "outputs": [],
   "source": [
    "df_tour_2['2020'].value_counts()"
   ]
  },
  {
   "cell_type": "code",
   "execution_count": null,
   "metadata": {},
   "outputs": [],
   "source": [
    "def tour_count_group(val):\n",
    "    if val >= 3000000:\n",
    "        return 5\n",
    "    elif val >= 2000000:\n",
    "        return 4\n",
    "    elif val >= 1000000:\n",
    "        return 3\n",
    "    elif val >= 500000:\n",
    "        return 2\n",
    "    else:\n",
    "        return 1"
   ]
  },
  {
   "cell_type": "code",
   "execution_count": null,
   "metadata": {},
   "outputs": [],
   "source": [
    "df_tour_2['2019_G'] = df_tour_2['2019'].apply(tour_count_group)\n",
    "print(df_tour_2)\n",
    "print(df_tour_2['2019_G'].values)\n",
    "print(df_tour_2['2019_G'].value_counts(sort=False))"
   ]
  },
  {
   "cell_type": "code",
   "execution_count": null,
   "metadata": {},
   "outputs": [],
   "source": [
    "df_tour_2_Q1 = df_tour_2['2019'].quantile(q=0.25)\n",
    "df_tour_2_Q3 = df_tour_2['2019'].quantile(q=0.75)\n",
    "df_tour_2_IQR = df_tour_2_Q3 - df_tour_2_Q1\n",
    "print(df_tour_2_IQR)"
   ]
  },
  {
   "cell_type": "code",
   "execution_count": null,
   "metadata": {},
   "outputs": [],
   "source": [
    "df_tour_2_ro = df_tour_2[(df_tour_2['2019'] < df_tour_2_Q3 + df_tour_2_IQR * 1.5) & (df_tour_2['2019'] > df_tour_2_Q1 - df_tour_2_IQR * 1.5)]"
   ]
  },
  {
   "cell_type": "code",
   "execution_count": null,
   "metadata": {},
   "outputs": [],
   "source": [
    "df_tour_2_ro"
   ]
  },
  {
   "cell_type": "markdown",
   "metadata": {},
   "source": [
    "## 6.5. CSV 파일 저장"
   ]
  },
  {
   "cell_type": "code",
   "execution_count": null,
   "metadata": {},
   "outputs": [],
   "source": [
    "df_tour_2.to_csv('df_tour.csv', index=False, sep=',', encoding='utf-8-sig')"
   ]
  },
  {
   "cell_type": "markdown",
   "metadata": {},
   "source": [
    "## 6.6. 기술 통계 (Descriptive Statistics)"
   ]
  },
  {
   "cell_type": "code",
   "execution_count": null,
   "metadata": {},
   "outputs": [],
   "source": [
    "import pandas as pd"
   ]
  },
  {
   "cell_type": "code",
   "execution_count": null,
   "metadata": {},
   "outputs": [],
   "source": [
    "df_tour_3 = pd.read_csv('df_tour.csv', sep=',', encoding='utf-8')"
   ]
  },
  {
   "cell_type": "code",
   "execution_count": null,
   "metadata": {},
   "outputs": [],
   "source": [
    "print(df_tour_3['2019'].max())\n",
    "print(df_tour_3['2019'].min())\n",
    "print(df_tour_3['2019'].sum())\n",
    "print(df_tour_3['2019'].mean())\n",
    "print(df_tour_3['2019'].var())\n",
    "print(df_tour_3['2019'].std())\n",
    "print(df_tour_3['2019'].skew()) # 왜도(Skewness): 양수일 경우 왼쪽에 몰림\n",
    "print(df_tour_3['2019'].kurtosis()) # 첨도(Kurtosis): 양수일 경우 정규분포 대비 분포가 중앙 집중\n",
    "print(df_tour_3['2019'].describe())"
   ]
  },
  {
   "cell_type": "code",
   "execution_count": null,
   "metadata": {},
   "outputs": [],
   "source": [
    "print(df_tour_3.describe())"
   ]
  },
  {
   "cell_type": "markdown",
   "metadata": {},
   "source": [
    "## 6.7. 그래프 (Graph)"
   ]
  },
  {
   "cell_type": "code",
   "execution_count": null,
   "metadata": {},
   "outputs": [],
   "source": [
    "import matplotlib.pyplot as plt"
   ]
  },
  {
   "cell_type": "code",
   "execution_count": null,
   "metadata": {},
   "outputs": [],
   "source": [
    "df_gas_sensor = pd.read_csv('gas_sensor_utf8.csv', sep=',', encoding='utf-8')"
   ]
  },
  {
   "cell_type": "code",
   "execution_count": null,
   "metadata": {
    "scrolled": true
   },
   "outputs": [],
   "source": [
    "df_gas_sensor"
   ]
  },
  {
   "cell_type": "code",
   "execution_count": null,
   "metadata": {
    "scrolled": true
   },
   "outputs": [],
   "source": [
    "print(df_gas_sensor['SMOKE_GROUP'].value_counts())\n",
    "graph1 = df_gas_sensor['SMOKE_GROUP'].value_counts().plot(kind=\"pie\")\n",
    "plt.show()"
   ]
  },
  {
   "cell_type": "code",
   "execution_count": null,
   "metadata": {
    "scrolled": false
   },
   "outputs": [],
   "source": [
    "graph2 = df_gas_sensor['SMOKE_GROUP'].value_counts().plot(kind=\"bar\")\n",
    "plt.show()"
   ]
  },
  {
   "cell_type": "code",
   "execution_count": null,
   "metadata": {
    "scrolled": true
   },
   "outputs": [],
   "source": [
    "graph_3 = df_gas_sensor.plot.scatter(x=\"PM10\", y=\"SMOKE\")\n",
    "plt.show()"
   ]
  }
 ],
 "metadata": {
  "kernelspec": {
   "display_name": "Python 3",
   "language": "python",
   "name": "python3"
  },
  "language_info": {
   "codemirror_mode": {
    "name": "ipython",
    "version": 3
   },
   "file_extension": ".py",
   "mimetype": "text/x-python",
   "name": "python",
   "nbconvert_exporter": "python",
   "pygments_lexer": "ipython3",
   "version": "3.7.7"
  }
 },
 "nbformat": 4,
 "nbformat_minor": 2
}
